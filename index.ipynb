{
 "cells": [
  {
   "cell_type": "code",
   "execution_count": 10,
   "metadata": {
    "collapsed": false,
    "deletable": true,
    "editable": true
   },
   "outputs": [
    {
     "data": {
      "image/png": "[encoded data removed]",
      "text/plain": [
       "<matplotlib.figure.Figure at 0x1098e7b00>"
      ]
     },
     "metadata": {},
     "output_type": "display_data"
    }
   ],
   "source": [
    "import pandas as pd\n",
    "import numpy as np\n",
    "import matplotlib.pyplot as plt\n",
    "\n",
    "\n",
    "data = pd.read_csv('data/train.csv')['Age'].dropna()\n",
    "plt.hist(data, bins=int(data.max()-data.min()))\n",
    "plt.xlabel('Age')\n",
    "plt.ylabel('N of passengers')\n",
    "plt.show()"
   ]
  },
  {
   "cell_type": "code",
   "execution_count": 4,
   "metadata": {
    "collapsed": false
   },
   "outputs": [
    {
     "name": "stdout",
     "output_type": "stream",
     "text": [
      "[60, 50, 75, 91, 81, 71, 61, 80, 35, 5, 95, 41, 79, 48, 13, 98, 67, 0, 59, 53]\n[0, 5, 13, 35, 41, 48, 50, 53, 59, 60, 61, 67, 71, 75, 79, 80, 81, 91, 95, 98]\n"
     ]
    }
   ],
   "source": [
    "import random\n",
    "\n",
    "def partition(a, l, h):\n",
    "    pivotvalue = a[l]\n",
    "\n",
    "    leftmark = l + 1\n",
    "    rightmark = h\n",
    "\n",
    "    done = False\n",
    "    while not done:\n",
    "\n",
    "        while leftmark <= rightmark and a[leftmark] <= pivotvalue:\n",
    "            leftmark += 1\n",
    "\n",
    "        while a[rightmark] >= pivotvalue and rightmark >= leftmark:\n",
    "            rightmark -= 1\n",
    "\n",
    "        if rightmark < leftmark:\n",
    "            done = True\n",
    "        else:\n",
    "            a[leftmark], a[rightmark] = a[rightmark], a[leftmark]\n",
    "\n",
    "    a[l], a[rightmark] = a[rightmark], a[l]\n",
    "\n",
    "    return rightmark\n",
    "\n",
    "\n",
    "def qs_(a, l, h):\n",
    "    if l < h:\n",
    "        splitpoint = partition(a, l, h)\n",
    "\n",
    "        qs_(a, l, splitpoint - 1)\n",
    "        qs_(a, splitpoint + 1, h)\n",
    "\n",
    "\n",
    "def qs(a):\n",
    "    qs_(a, 0, len(a)-1)\n",
    "    \n",
    "\n",
    "l = random.sample(range(100), 20)\n",
    "print(l)\n",
    "qs(l)\n",
    "print(l)"
   ]
  },
  {
   "cell_type": "code",
   "execution_count": null,
   "metadata": {},
   "outputs": [],
   "source": [
    ""
   ]
  }
 ],
 "metadata": {
  "kernelspec": {
   "display_name": "Python 3",
   "language": "python",
   "name": "python3"
  },
  "language_info": {
   "codemirror_mode": {
    "name": "ipython",
    "version": 3.0
   },
   "file_extension": ".py",
   "mimetype": "text/x-python",
   "name": "python",
   "nbconvert_exporter": "python",
   "pygments_lexer": "ipython3",
   "version": "3.5.3"
  }
 },
 "nbformat": 4,
 "nbformat_minor": 0
}